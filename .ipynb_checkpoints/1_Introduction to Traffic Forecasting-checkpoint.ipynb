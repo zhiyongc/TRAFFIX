{
 "cells": [
  {
   "cell_type": "markdown",
   "metadata": {},
   "source": [
    "# 1. Introduction of Traffic Forecasting"
   ]
  },
  {
   "cell_type": "markdown",
   "metadata": {},
   "source": [
    "## 1.1 Problem Definition"
   ]
  },
  {
   "cell_type": "markdown",
   "metadata": {},
   "source": [
    "The **traffic forecasting** problem can be considered as learning a function/model $F$ to mapping historical traffic state data to predict the states in future time step/steps.\n",
    "\n",
    "> Please note: traffic states normally refer to as travel time, speed, volume, and etc. Some exiting studies also attempted to forecast the amount of origin-desination (O-D) pairs and metro ridership.\n",
    "\n",
    "When attempting to predict network-wide traffic states, we usually convert the traffic states of the whole traffic network with $N$ roads/links/sensor stations as a vector $x\\in R^N$.\n",
    "\n",
    "A sequence of historical traffic state data with $T$ time steps can be represented by $X=[x_1, x_x, ..., x_T]$. Here, we assume those traffic states have the identical time interval $\\Delta t$.\n",
    "\n",
    "The future traffic states to be prediced can be one-step data $x_{T+1}$ or multi-steps data $[x_{T+1}, x_{T+2}, ..., x_{T+n}]$.\n",
    "\n",
    "The following figure shows the process of forecasting one future step of traffic states:\n",
    "\n",
    "<img src=\"./img/TrafficForecasting.PNG\" alt=\"drawing\" width=\"600\"/>\n",
    "\n",
    "Hence, the traffic forecasting problem can be defined as learning a function $F$ such that \n",
    "\n",
    "\\begin{align}\n",
    "F([x_1, x_2, ..., x_T]) = [x_T]\n",
    "\\end{align}\n",
    "where $F$ is a **one-step traffic forecasting** model.\n",
    "\n",
    "**Or**, the traffic forecasting problem can be defined as learning a function $F$ such that \n",
    "\n",
    "\\begin{align}\n",
    "F([x_1, x_2, ..., x_T]) = [x_{T+1}, x_{T+2}, ..., x_{T+n}]\n",
    "\\end{align}\n",
    "which is $F$ a **multi-steps traffic forecasting** model. For simplicity, we will use the one-step traffic forecasting model to describe the traffic forecasting problem in the following sections.\n"
   ]
  },
  {
   "cell_type": "markdown",
   "metadata": {},
   "source": [
    "## 1.2 Extra Features in Traffic Forecasting "
   ]
  },
  {
   "cell_type": "markdown",
   "metadata": {},
   "source": [
    "### 1.2.1 Extra Input"
   ]
  },
  {
   "cell_type": "markdown",
   "metadata": {},
   "source": [
    "The traffic forecasting problem introduced in this tutorial is refering to short-term traffic state forecating. Short-term traffic states can be influenced by many factors, and thus, short-term traffic states is highly stochastic. However, from a long-term perspective, traffic patterns have strong periodicity. For example, the traffic states has strong daily, weekly, or even monthly patterns. Thus, the temporal information ($T$) is an important factor that influnces future traffic states. Exsiting works have attempted to incorporate temporal information, such as $T$, into a traffic prediction model, and the corresponding traffic forecasting problem can be formulated as fitting a function $F$ such that\n",
    "\\begin{align}\n",
    "F([T,\\{x_1, x_2, ..., x_T\\}]) = [x_T]\n",
    "\\end{align}\n"
   ]
  },
  {
   "cell_type": "markdown",
   "metadata": {},
   "source": [
    "Historical traffic state is not the only source to predict the future traffic states. There are several other influential factors can also affect the network-wide traffic state, including:\n",
    "* Weather conditions\n",
    "* Road construtions\n",
    "* Traffic incidents\n",
    "* Events\n",
    "Besides, one inherent feature in the historical traffic state"
   ]
  },
  {
   "cell_type": "markdown",
   "metadata": {},
   "source": [
    "### 1.2.2 Data Formats"
   ]
  },
  {
   "cell_type": "markdown",
   "metadata": {},
   "source": [
    "If a traffic influential factor has spatiotemporal properties, the factors can be considered as features of the input. If the values of a factor are continuous, the values at time $t$ can be easily concatenated to input vector $x_t$. If the values of a factor are discrete, we can also convert the factor as one-hot vector and attach it to $x_t$. There are also other methods to input extra features into a model, such as designing a sub-network."
   ]
  }
 ],
 "metadata": {
  "kernelspec": {
   "display_name": "Python 3",
   "language": "python",
   "name": "python3"
  },
  "language_info": {
   "codemirror_mode": {
    "name": "ipython",
    "version": 3
   },
   "file_extension": ".py",
   "mimetype": "text/x-python",
   "name": "python",
   "nbconvert_exporter": "python",
   "pygments_lexer": "ipython3",
   "version": "3.7.4"
  }
 },
 "nbformat": 4,
 "nbformat_minor": 4
}
